{
 "cells": [
  {
   "cell_type": "code",
   "execution_count": null,
   "id": "d98a07ba",
   "metadata": {},
   "outputs": [],
   "source": [
    "import networkx as nx\n",
    "import matplotlib.pyplot as plt\n",
    "import pandas as pd\n",
    "import numpy as np\n",
    "\n",
    "\n",
    "i=0\n",
    "G = nx.DiGraph()\n",
    "f = open(\"C:\\\\Users\\\\Utente\\\\OneDrive\\\\Uni Anno 2 Semestre 2\\\\SOCIAL NETWORK ANALYSIS\\\\ProgettoEsame\\\\darkweb-nodes.txt\", \"r\")\n",
    "for line in f:\n",
    "    rec=line.strip().split(';')\n",
    "    G.add_node(rec[0])\n",
    "\n",
    "f.close\n",
    "\n",
    "f = open(\"C:\\\\Users\\\\Utente\\\\OneDrive\\\\Uni Anno 2 Semestre 2\\\\SOCIAL NETWORK ANALYSIS\\\\ProgettoEsame\\\\darkweb-edges2.txt\", \"r\")\n",
    "for line in f:\n",
    "    i=i+1\n",
    "    rec=line.strip().split(';')\n",
    "    G.add_edge(rec[0],rec[1], weight=int(rec[3]),DIRECTIONA=\"oneway\",length=rec[3]*100)\n",
    "f.close\n",
    "\n",
    "\n",
    "d = dict(G.degree)\n",
    "\n",
    "# Calcolo di in-degree e out-degree,degree, degree pesato\n",
    "\n",
    "colonne=['Nodo',\n",
    "         'LinkInEntrata',\n",
    "         'LinkInUscita',\n",
    "         'Degree',\n",
    "         'DegreePesato']\n",
    "\n",
    "df = pd.DataFrame([], columns=colonne)\n",
    "\n",
    "for nodo in sorted(list(G.degree()),key=lambda x: x[1], reverse=True):\n",
    "    df1=pd.DataFrame(np.array([[nodo[0],int(G.in_degree(nodo[0])) ,int(G.out_degree(nodo[0])),int(nodo[1]),G.degree(nodo[0],weight ='weight')]]), columns=colonne)\n",
    "    df=pd.concat([df,df1],sort=False)\n",
    "    \n",
    "df\n"
   ]
  },
  {
   "cell_type": "code",
   "execution_count": null,
   "id": "66cc5f1c",
   "metadata": {},
   "outputs": [],
   "source": [
    "#Numero Nodi\n",
    "len(list(G.nodes))"
   ]
  },
  {
   "cell_type": "code",
   "execution_count": null,
   "id": "ce6984dc",
   "metadata": {
    "scrolled": true
   },
   "outputs": [],
   "source": [
    "#Numero Link\n",
    "len(list(G.edges))"
   ]
  },
  {
   "cell_type": "code",
   "execution_count": null,
   "id": "eb88019b",
   "metadata": {},
   "outputs": [],
   "source": [
    "#Calcolo foglie\n",
    "df.query(\"LinkInEntrata >= '1' and LinkInUscita=='0'\")"
   ]
  },
  {
   "cell_type": "code",
   "execution_count": null,
   "id": "40d99af9",
   "metadata": {},
   "outputs": [],
   "source": [
    "#Calcolo radici\n",
    "df.query(\"LinkInEntrata == '0' and LinkInUscita>'0'\")"
   ]
  },
  {
   "cell_type": "code",
   "execution_count": null,
   "id": "58af2e85",
   "metadata": {},
   "outputs": [],
   "source": [
    "#Ordinamento in base ai link in uscita\n",
    "df.sort_values(by='LinkInUscita',key=lambda col: col.astype(int),ascending=False)"
   ]
  },
  {
   "cell_type": "code",
   "execution_count": null,
   "id": "25aaaf3a",
   "metadata": {},
   "outputs": [],
   "source": [
    "#Ordinamento in base ai link in entrata\n",
    "df.sort_values(by='LinkInEntrata',key=lambda col: col.astype(int),ascending=False)"
   ]
  },
  {
   "cell_type": "code",
   "execution_count": null,
   "id": "b8a800d3",
   "metadata": {},
   "outputs": [],
   "source": [
    "#Ordinamento in base al peso dei link\n",
    "df.sort_values(by='DegreePesato',key=lambda col: col.astype(int),ascending=False)"
   ]
  },
  {
   "cell_type": "code",
   "execution_count": null,
   "id": "67c34baa",
   "metadata": {},
   "outputs": [],
   "source": [
    "#Grado Minimo, Grado Massimo, Range,Grado Medio.Massima Grandezza Rete,Tipo rete\n",
    "print(\"\\nGenerale\")\n",
    "print('Grado Minimo:',min(df['Degree'].astype(int)))\n",
    "print('Grado Massimo:',max(df['Degree'].astype(int)))\n",
    "print('Range:',max(df['Degree'].astype(int))-min(df['Degree'].astype(int)))\n",
    "\n",
    "\n",
    "print(\"\\nLink in Entrata\")\n",
    "print('Grado Minimo:',min(df['LinkInEntrata'].astype(int)))\n",
    "print('Grado Massimo:',max(df['LinkInEntrata'].astype(int)))\n",
    "print('Range:',max(df['LinkInEntrata'].astype(int))-min(df['LinkInUscita'].astype(int)))\n",
    "\n",
    "print(\"\\nLink in Uscita\")\n",
    "print('Grado Minimo:',min(df['LinkInUscita'].astype(int)))\n",
    "print('Grado Massimo:',max(df['LinkInUscita'].astype(int)))\n",
    "print('Range:',max(df['LinkInUscita'].astype(int))-min(df['LinkInUscita'].astype(int)))\n",
    "\n",
    "print(\"\\nGrado Medio\")\n",
    "print('Grado Medio:',sum(df['LinkInUscita'].astype(int))/ len(df))\n",
    "\n",
    "print(\"\\nMassima Grandezza della rete\")\n",
    "print('Massima Grandezza della rete:',len(df)*(len(df)-1))\n",
    "print('Valore di densità:',nx.density(G))\n",
    "\n",
    "if nx.is_strongly_connected(G) == False:\n",
    "    print('Rete debolmente connessa')\n",
    "else:\n",
    "    print('Rete fortemente connessa')\n",
    "\n",
    "#Rete con range alto quindi non omogenea"
   ]
  },
  {
   "cell_type": "code",
   "execution_count": null,
   "id": "007f56fe",
   "metadata": {},
   "outputs": [],
   "source": [
    "#ricerca cicli\n",
    "nx.find_cycle(G)"
   ]
  },
  {
   "cell_type": "code",
   "execution_count": null,
   "id": "2c6901b0",
   "metadata": {},
   "outputs": [],
   "source": [
    "#Diametro\n",
    "sp=nx.shortest_path(G)\n",
    "numShortestPath=0\n",
    "percorsoShortestPath = ''\n",
    "numPercorsiShortestPath=0\n",
    "totLenShortestPath=0\n",
    "for nodo in sorted(list(G.degree()),key=lambda x: x[1], reverse=True):\n",
    "    for sp_v in sp[nodo[0]]:\n",
    "        numPercorsiShortestPath = numPercorsiShortestPath + 1\n",
    "        totLenShortestPath = totLenShortestPath + len(sp[nodo[0]][sp_v])\n",
    "        \n",
    "        if  (numShortestPath<len(sp[nodo[0]][sp_v])):\n",
    "            numShortestPath = len(sp[nodo[0]][sp_v])\n",
    "            percorsoShortestPath = sp[nodo[0]][sp_v]\n",
    "        \n",
    "print(\"Diametro=\",numShortestPath)\n",
    "print('Percorso Diametro=',percorsoShortestPath)\n",
    "print(\"AverageShortestPathLength=\",nx.average_shortest_path_length(G) )"
   ]
  },
  {
   "cell_type": "code",
   "execution_count": null,
   "id": "0da45311",
   "metadata": {},
   "outputs": [],
   "source": [
    "#Coefficiente di clustering globale\n",
    "print('Global clustering coefficient:',nx.transitivity(G))\n",
    "#MEDIA GLOBAL CLUSTERING \n",
    "avg_clustering = nx.average_clustering(G)\n",
    "print(\"Valore medio global clustering:\", avg_clustering)"
   ]
  },
  {
   "cell_type": "code",
   "execution_count": null,
   "id": "22970f98",
   "metadata": {},
   "outputs": [],
   "source": [
    "#Calcolo Centralità\n",
    "deg_centr=nx.degree_centrality(G)\n",
    "sorted_deg_centr = sorted(deg_centr.items(), key=lambda kv: kv[1],reverse=True)\n",
    "pd.DataFrame(sorted_deg_centr)"
   ]
  },
  {
   "cell_type": "code",
   "execution_count": null,
   "id": "451afb86",
   "metadata": {},
   "outputs": [],
   "source": [
    "#CLOSENESS CENTRALITY\n",
    "#È una misura che permette di stabilire quanto un\n",
    "#nodo è centrale o meno nella rete, ovvero quanti nodi\n",
    "#è possibile raggiunge tramite i percorsi più brevi\n",
    "#partendo da esso. Pertanto, più un nodo è centrale, più\n",
    "#è vicino a tutti gli altri nodi.\n",
    "closeG = nx.closeness_centrality(G)\n",
    "sorted_closeG = sorted(closeG.items(), key=lambda kv: kv[1],reverse=True)\n",
    "pd.DataFrame(sorted_closeG)\n"
   ]
  },
  {
   "cell_type": "code",
   "execution_count": null,
   "id": "2db7227d",
   "metadata": {},
   "outputs": [],
   "source": [
    "#BETWEENNESS CENTRALITY\n",
    "BC = nx.betweenness_centrality(G)\n",
    "sorted_BC = sorted(BC.items(), key=lambda kv: kv[1],reverse=True)\n",
    "pd.DataFrame(sorted_BC)"
   ]
  },
  {
   "cell_type": "code",
   "execution_count": null,
   "id": "833a960b",
   "metadata": {},
   "outputs": [],
   "source": [
    "#Grafico\n",
    "#from networkx.drawing.nx_pydot import write_dot\n",
    "plt.rcParams[\"figure.figsize\"] = (100,100)\n",
    "pos = nx.nx_agraph.graphviz_layout(G)\n",
    "nx.draw(G, pos=pos,node_size=[v*10  for v in d.values()],)\n",
    "#write_dot(G, 'file.dot')"
   ]
  },
  {
   "cell_type": "code",
   "execution_count": null,
   "id": "36a4de6e",
   "metadata": {},
   "outputs": [],
   "source": [
    "#GIANT COMPONENT\n",
    "Gcc = sorted(nx.connected_components(G.to_undirected()), key=len, reverse=True)\n",
    "G0 = G.subgraph(Gcc[0])\n",
    "#nx.draw(G0)\n",
    "print(G0)"
   ]
  },
  {
   "cell_type": "code",
   "execution_count": null,
   "id": "0fb8d5b3",
   "metadata": {},
   "outputs": [],
   "source": [
    "#Componenti connesse in maniera forte\n",
    "import matplotlib.pyplot as plt\n",
    "import random\n",
    "\n",
    "g_sc=nx.strongly_connected_components(G)\n",
    "lista_g_sc=list(g_sc)\n",
    "listaGrafici=list()\n",
    "for s in lista_g_sc:\n",
    "    if len(s)>1:\n",
    "        listaNodi = list()\n",
    "        for n in s:\n",
    "            listaNodi.append(n)\n",
    "        G_sc = nx.DiGraph()  \n",
    "        for x in listaNodi:\n",
    "            G_sc.add_node(x)\n",
    "        for x in listaNodi:\n",
    "            for y in listaNodi:\n",
    "                if G.has_edge(x,y):\n",
    "                    G_sc.add_edge(x,y)\n",
    "        \n",
    "        \n",
    "        listaGrafici.append(G_sc)\n",
    "        #nx.draw_networkx(G_sc) \n",
    " \n",
    "                    \n",
    "number_of_colors = 37\n",
    "\n",
    "color = [\"#\"+''.join([random.choice('0123456789ABCDEF') for j in range(6)])\n",
    "             for i in range(number_of_colors)]\n",
    "ind_color = -1\n",
    "for graf in listaGrafici:\n",
    "    ind_color = ind_color + 1\n",
    "   # print(color[ind_color])\n",
    "    options = {\n",
    "        \"edge_color\": color[ind_color] ,\n",
    "        \"width\":1,\n",
    "        \"node_color\": color[ind_color]\n",
    "    }\n",
    "    nx.draw_networkx(graf,**options)       \n"
   ]
  },
  {
   "cell_type": "code",
   "execution_count": null,
   "id": "7478f9ef",
   "metadata": {},
   "outputs": [],
   "source": [
    "#Verifica della robustezza\n",
    "listaGraficiRob=list()\n",
    "for e in sorted(list(G.degree()),key=lambda x: x[1], reverse=True):\n",
    "    g2=G.copy()\n",
    "    g2.remove_node(e[0])\n",
    "    numNodiIsolati = 0\n",
    "    for x in list(nx.isolates(g2)):\n",
    "        g2.remove_node(x)\n",
    "        numNodiIsolati = numNodiIsolati + 1\n",
    "    print('Nodi isolati eliminati per il nodo ',e[0],':',numNodiIsolati)\n",
    "    if int(nx.number_connected_components(g2.to_undirected())) > 1:\n",
    "        print('Eliminando ',e[0],' che contiene ',e[1],' archi si ottengono',nx.number_connected_components(g2.to_undirected()),' sottoreti isolate numero nodi isolati elimanti:',numNodiIsolati)\n",
    "        listaGraficiRob.append(g2)"
   ]
  },
  {
   "cell_type": "code",
   "execution_count": null,
   "id": "bda51ef2",
   "metadata": {},
   "outputs": [],
   "source": [
    "options = {\n",
    "    \"edge_color\": \"black\",\n",
    "    \"width\":1,\n",
    "    \"node_color\": 'red',\n",
    "    \"alpha\":.7,\n",
    "}\n",
    "gd = nx.DiGraph(listaGraficiRob[0])\n",
    "d1= dict(gd.degree)\n",
    "plt.rcParams[\"figure.figsize\"] = (100,100)\n",
    "pos = nx.nx_agraph.graphviz_layout(gd)\n",
    "nx.draw(gd, pos=pos,node_size=[v*10  for v in d1.values()],)"
   ]
  },
  {
   "cell_type": "code",
   "execution_count": null,
   "id": "970dcf35",
   "metadata": {},
   "outputs": [],
   "source": [
    "options = {\n",
    "    \"edge_color\": \"black\",\n",
    "    \"width\":1,\n",
    "    \"node_color\": 'red',\n",
    "    \"alpha\":.7,\n",
    "}\n",
    "options = {\n",
    "    \"edge_color\": \"black\",\n",
    "    \"width\":1,\n",
    "    \"node_color\": 'red',\n",
    "    \"alpha\":.7,\n",
    "}\n",
    "gd = nx.DiGraph(listaGraficiRob[1])\n",
    "d1= dict(gd.degree)\n",
    "plt.rcParams[\"figure.figsize\"] = (100,100)\n",
    "pos = nx.nx_agraph.graphviz_layout(gd)\n",
    "nx.draw(gd, pos=pos,node_size=[v*10  for v in d1.values()],) "
   ]
  }
 ],
 "metadata": {
  "kernelspec": {
   "display_name": "Python 3 (ipykernel)",
   "language": "python",
   "name": "python3"
  },
  "language_info": {
   "codemirror_mode": {
    "name": "ipython",
    "version": 3
   },
   "file_extension": ".py",
   "mimetype": "text/x-python",
   "name": "python",
   "nbconvert_exporter": "python",
   "pygments_lexer": "ipython3",
   "version": "3.9.7"
  }
 },
 "nbformat": 4,
 "nbformat_minor": 5
}
